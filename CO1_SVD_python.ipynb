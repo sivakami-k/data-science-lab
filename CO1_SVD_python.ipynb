{
  "nbformat": 4,
  "nbformat_minor": 0,
  "metadata": {
    "colab": {
      "provenance": [],
      "authorship_tag": "ABX9TyNd+0MDjRFiDnf8FrHLTeGn",
      "include_colab_link": true
    },
    "kernelspec": {
      "name": "python3",
      "display_name": "Python 3"
    },
    "language_info": {
      "name": "python"
    }
  },
  "cells": [
    {
      "cell_type": "markdown",
      "metadata": {
        "id": "view-in-github",
        "colab_type": "text"
      },
      "source": [
        "<a href=\"https://colab.research.google.com/github/sivakami-k/data-science-lab/blob/main/CO1_SVD_python.ipynb\" target=\"_parent\"><img src=\"https://colab.research.google.com/assets/colab-badge.svg\" alt=\"Open In Colab\"/></a>"
      ]
    },
    {
      "cell_type": "code",
      "execution_count": 4,
      "metadata": {
        "colab": {
          "base_uri": "https://localhost:8080/"
        },
        "id": "fTsKX2cYk7pF",
        "outputId": "761b3f30-3d8d-4a35-d8d5-6af3652ede1d"
      },
      "outputs": [
        {
          "output_type": "stream",
          "name": "stdout",
          "text": [
            "--SVD--\n",
            "A: [[1 2 3]\n",
            " [4 5 6]\n",
            " [7 8 9]]\n",
            "[[-0.21483724  0.88723069  0.40824829]\n",
            " [-0.52058739  0.24964395 -0.81649658]\n",
            " [-0.82633754 -0.38794278  0.40824829]]\n",
            "[1.68481034e+01 1.06836951e+00 4.41842475e-16]\n",
            "[[-0.47967118 -0.57236779 -0.66506441]\n",
            " [-0.77669099 -0.07568647  0.62531805]\n",
            " [-0.40824829  0.81649658 -0.40824829]]\n",
            "\n",
            "--REMAKE--\n",
            "[[1. 2. 3.]\n",
            " [4. 5. 6.]\n",
            " [7. 8. 9.]]\n"
          ]
        }
      ],
      "source": [
        "import numpy as np\n",
        "print(\"--SVD--\")\n",
        "A=np.array([[1,2,3],[4,5,6],[7,8,9]])\n",
        "print(\"A:\",A)\n",
        "U,D,VT=np.linalg.svd(A)\n",
        "print(U)\n",
        "print(D)\n",
        "print(VT)\n",
        "\n",
        "print(\"\\n--REMAKE--\")\n",
        "A_R=(U@np.diag(D)@VT)\n",
        "print(A_R)"
      ]
    }
  ]
}